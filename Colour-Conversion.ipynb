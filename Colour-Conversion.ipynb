{
 "cells": [
  {
   "cell_type": "code",
   "execution_count": 1,
   "id": "fb48beb0",
   "metadata": {},
   "outputs": [
    {
     "name": "stdout",
     "output_type": "stream",
     "text": [
      "Requirement already satisfied: opencv-python in c:\\app\\anac\\lib\\site-packages (4.9.0.80)\n",
      "Requirement already satisfied: numpy>=1.21.2 in c:\\app\\anac\\lib\\site-packages (from opencv-python) (1.24.3)\n"
     ]
    }
   ],
   "source": [
    "!pip install opencv-python"
   ]
  },
  {
   "cell_type": "code",
   "execution_count": 2,
   "id": "8f05590c",
   "metadata": {},
   "outputs": [],
   "source": [
    "#Read and display the image\n",
    "import cv2\n",
    "image=cv2.imread('city.jpg',1)\n",
    "image=cv2.resize(image,(200,325))\n",
    "cv2.imshow('Psv',image)\n",
    "cv2.waitKey(0)\n",
    "cv2.destroyAllWindows()"
   ]
  },
  {
   "cell_type": "code",
   "execution_count": 3,
   "id": "107984a2",
   "metadata": {},
   "outputs": [
    {
     "data": {
      "text/plain": [
       "True"
      ]
     },
     "execution_count": 3,
     "metadata": {},
     "output_type": "execute_result"
    }
   ],
   "source": [
    "#Write the image\n",
    "import cv2\n",
    "image=cv2.imread('city.jpg',0)\n",
    "cv2.imwrite('demos.jpg',image)"
   ]
  },
  {
   "cell_type": "code",
   "execution_count": 4,
   "id": "ff1b608b",
   "metadata": {},
   "outputs": [
    {
     "name": "stdout",
     "output_type": "stream",
     "text": [
      "(750, 500, 3)\n"
     ]
    }
   ],
   "source": [
    "#Shape of the Image\n",
    "import cv2\n",
    "image=cv2.imread('city.jpg',1)\n",
    "print(image.shape)"
   ]
  },
  {
   "cell_type": "code",
   "execution_count": 5,
   "id": "5c40080a",
   "metadata": {},
   "outputs": [],
   "source": [
    "#Access rows and columns\n",
    "import random\n",
    "import cv2\n",
    "image=cv2.imread('city.jpg',1)\n",
    "image=cv2.resize(image,(400,400))\n",
    "for i in range (150,200):\n",
    "    for j in range(image.shape[1]):\n",
    "        image[i][j]=[random.randint(0,255),\n",
    "                    random.randint(0,255),\n",
    "                    random.randint(0,255)] \n",
    "cv2.imshow('part image',image)\n",
    "cv2.waitKey(0)\n",
    "cv2.destroyAllWindows()"
   ]
  },
  {
   "cell_type": "code",
   "execution_count": 6,
   "id": "6f610d2e",
   "metadata": {},
   "outputs": [],
   "source": [
    "#Cut and paste portion of image\n",
    "import cv2\n",
    "image=cv2.imread('city.jpg',1)\n",
    "image=cv2.resize(image,(400,400))\n",
    "tag =image[150:200,110:160]\n",
    "image[110:160,150:200] = tag\n",
    "cv2.imshow('partimage1',image)\n",
    "cv2.waitKey(0)\n",
    "cv2.destroyAllWindows()"
   ]
  },
  {
   "cell_type": "code",
   "execution_count": 7,
   "id": "3079ea87",
   "metadata": {},
   "outputs": [],
   "source": [
    "#BGR and RGB to HSV and GRAY\n",
    "import cv2\n",
    "img = cv2.imread('city.jpg',1)\n",
    "img = cv2.resize(img,(300,200))\n",
    "cv2.imshow('Original Image',img)\n",
    "\n",
    "hsv1 = cv2.cvtColor(img,cv2.COLOR_BGR2HSV)\n",
    "cv2.imshow('BGR2HSV',hsv1)\n",
    "\n",
    "hsv2 = cv2.cvtColor(img,cv2.COLOR_RGB2HSV)\n",
    "cv2.imshow('RGB2HSV',hsv2)\n",
    "\n",
    "gray1 = cv2.cvtColor(img,cv2.COLOR_BGR2GRAY)\n",
    "cv2.imshow('BGR2GRAY',gray1)\n",
    "\n",
    "gray2 = cv2.cvtColor(img,cv2.COLOR_RGB2GRAY)\n",
    "cv2.imshow('RGB2GRAY',gray2)\n",
    "\n",
    "cv2.waitKey(0)\n",
    "cv2.destroyAllWindows()"
   ]
  },
  {
   "cell_type": "code",
   "execution_count": 8,
   "id": "229f150d",
   "metadata": {},
   "outputs": [],
   "source": [
    "#HSV to RGB and BGR\n",
    "import cv2\n",
    "img = cv2.imread('city.jpg')\n",
    "img = cv2.resize(img,(300,200))\n",
    "\n",
    "img = cv2.cvtColor(img,cv2.COLOR_BGR2HSV)\n",
    "cv2.imshow('Original HSV Image',img)\n",
    "\n",
    "RGB = cv2.cvtColor(img,cv2.COLOR_HSV2RGB)\n",
    "cv2.imshow('2HSV2BGR',RGB)\n",
    "\n",
    "BGR = cv2.cvtColor(img,cv2.COLOR_HSV2BGR)\n",
    "cv2.imshow('HSV2RGB',BGR)\n",
    "\n",
    "cv2.waitKey(0)\n",
    "cv2.destroyAllWindows()"
   ]
  },
  {
   "cell_type": "code",
   "execution_count": 9,
   "id": "c436a06f",
   "metadata": {},
   "outputs": [],
   "source": [
    "#RGB and BGR to YCrCb\n",
    "import cv2\n",
    "img = cv2.imread('city.jpg')\n",
    "img = cv2.resize(img,(300,200))\n",
    "cv2.imshow('Original RGB Image',img)\n",
    "\n",
    "YCrCb1 = cv2.cvtColor(img, cv2.COLOR_BGR2YCrCb)\n",
    "cv2.imshow('RGB-2-YCrCb',YCrCb1)\n",
    "\n",
    "YCrCb2 = cv2.cvtColor(img, cv2.COLOR_RGB2YCrCb)\n",
    "cv2.imshow('BGR-2-YCrCb',YCrCb2)\n",
    "\n",
    "cv2.waitKey(0)\n",
    "cv2.destroyAllWindows()"
   ]
  },
  {
   "cell_type": "code",
   "execution_count": 11,
   "id": "316b95d9",
   "metadata": {},
   "outputs": [],
   "source": [
    "#Split and merge RGB Image\n",
    "import cv2\n",
    "img = cv2.imread('city.jpg',1)\n",
    "img = cv2.resize(img,(300,200))\n",
    "\n",
    "R = img[:,:,2]\n",
    "G = img[:,:,1]\n",
    "B = img[:,:,0]\n",
    "\n",
    "cv2.imshow('R-Channel',R)\n",
    "cv2.imshow('G-Channel',G)\n",
    "cv2.imshow('B-Channel',B)\n",
    "\n",
    "merged = cv2.merge((B,G,R))\n",
    "cv2.imshow('Merged RGB image',merged)\n",
    "\n",
    "cv2.waitKey(0)\n",
    "cv2.destroyAllWindows()"
   ]
  },
  {
   "cell_type": "code",
   "execution_count": 12,
   "id": "1c18f1d1",
   "metadata": {},
   "outputs": [],
   "source": [
    "#Split and merge HSV Image\n",
    "import cv2\n",
    "img = cv2.imread(\"city.jpg\",1)\n",
    "img = cv2.resize(img,(300,200))\n",
    "img=cv2.cvtColor(img,cv2.COLOR_RGB2HSV)\n",
    "\n",
    "H,S,V=cv2.split(img)\n",
    "\n",
    "cv2.imshow('Hue',H)\n",
    "cv2.imshow('Saturation',S)\n",
    "cv2.imshow('Value',V)\n",
    "\n",
    "merged = cv2.merge((H,S,V))\n",
    "cv2.imshow('Merged',merged)\n",
    "\n",
    "cv2.waitKey(0)\n",
    "cv2.destroyAllWindows()"
   ]
  },
  {
   "cell_type": "code",
   "execution_count": null,
   "id": "1fe00e5b",
   "metadata": {},
   "outputs": [],
   "source": []
  }
 ],
 "metadata": {
  "kernelspec": {
   "display_name": "Python 3 (ipykernel)",
   "language": "python",
   "name": "python3"
  },
  "language_info": {
   "codemirror_mode": {
    "name": "ipython",
    "version": 3
   },
   "file_extension": ".py",
   "mimetype": "text/x-python",
   "name": "python",
   "nbconvert_exporter": "python",
   "pygments_lexer": "ipython3",
   "version": "3.11.5"
  }
 },
 "nbformat": 4,
 "nbformat_minor": 5
}
